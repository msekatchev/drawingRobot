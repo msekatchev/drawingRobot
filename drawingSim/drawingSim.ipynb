{
 "cells": [
  {
   "cell_type": "code",
   "execution_count": 2,
   "metadata": {},
   "outputs": [
    {
     "data": {
      "image/png": "[encoded data removed]",
      "text/plain": [
       "<Figure size 432x288 with 1 Axes>"
      ]
     },
     "metadata": {
      "needs_background": "light"
     },
     "output_type": "display_data"
    }
   ],
   "source": [
    "import matplotlib.pyplot as plt\n",
    "from matplotlib.path import Path\n",
    "import matplotlib.patches as patches\n",
    "import numpy as np\n",
    "\n",
    "\n",
    "\n",
    "anglevec = np.array([1,0])\n",
    "\n",
    "pos = np.array([0,0]) \n",
    "positions = []\n",
    "code = []\n",
    "angle = np.radians(90)\n",
    "R_F = 1\n",
    "L_F = 1\n",
    "L_B = 0\n",
    "R_B = 0\n",
    "DOWN = 1500\n",
    "UP = 750\n",
    "LEFT = 1\n",
    "RIGHT = 0\n",
    "FWD = 1\n",
    "BAC = 0\n",
    "DEG90 = 2100\n",
    "DEG45 = 1050\n",
    "DEG30 = 700\n",
    "DEG15 = np.degrees(15) #350\n",
    "\n",
    "\n",
    "\n",
    "\n",
    "\n",
    "def turn(direction, theta, v):\n",
    "    angle = np.arctan(v[1]/v[0])\n",
    "   \n",
    "    if (direction == RIGHT):\n",
    "        theta = angle + theta\n",
    "        newX = -v[0] * np.cos(theta) + v[1] * np.sin(theta)\n",
    "        newY = v[0] * np.sin(theta) + v[1] * np.cos(theta)\n",
    "    else:\n",
    "        theta = angle - theta\n",
    "        newX = np.cos(theta) + np.sin(theta)\n",
    "        newY = np.sin(theta) - np.cos(theta)\n",
    "        \n",
    "    return np.array([newX/np.sqrt(newX**2 + newY**2),newY/np.sqrt(newX**2 + newY**2)])\n",
    "\n",
    "def go(direction, duration, p):\n",
    "    if(direction == FWD):\n",
    "        p = p + [anglevec[0]*duration,anglevec[1]*duration]\n",
    "    else:\n",
    "        p = p - [anglevec[0]*duration,anglevec[1]*duration]\n",
    "    if(CCR1 == UP):\n",
    "        code.append(Path.MOVETO)\n",
    "    else:\n",
    "        code.append(Path.LINETO)\n",
    "    return p\n",
    "\n",
    "\n",
    "code.append(Path.MOVETO)\n",
    "positions.append([0,0])\n",
    "CCR1 = DOWN;\n",
    "pos = go(FWD,1200,pos);\n",
    "positions.append(pos)\n",
    "CCR1 = UP;\n",
    "anglevec = turn(LEFT,DEG15,anglevec);\n",
    "CCR1 = DOWN;\n",
    "pos = go(BAC,900,pos); \n",
    "positions.append(pos)\n",
    "\n",
    "anglevec = turn(RIGHT,DEG30,anglevec);\n",
    "pos = go(FWD,900,pos);\n",
    "positions.append(pos)\n",
    "anglevec = turn(LEFT,DEG15,anglevec);\n",
    "pos = go(BAC,1200,pos);\n",
    "positions.append(pos)\n",
    "CCR1 = UP;\n",
    "\n",
    "\n",
    "\n",
    "\n",
    "anglevec = turn(RIGHT,DEG90,anglevec);\n",
    "pos = go(FWD,300,pos);\n",
    "positions.append(pos)\n",
    "anglevec = turn(LEFT,DEG90,anglevec);\n",
    "\n",
    "# pos = go(FWD, 1200,pos);\n",
    "# positions.append(pos)\n",
    "# CCR1 = DOWN;\n",
    "# pos = go(BAC, 1200,pos);\n",
    "# positions.append(pos)\n",
    "# anglevec = turn(RIGHT, DEG15,anglevec);\n",
    "# pos = go(FWD, 1242,pos);\n",
    "# positions.append(pos)\n",
    "# anglevec = turn(LEFT, DEG15,anglevec);\n",
    "# pos = go(BAC, 1200,pos);\n",
    "# positions.append(pos)\n",
    "# CCR1 = UP;\n",
    "\n",
    "\n",
    "\n",
    "\n",
    "\n",
    "\n",
    "\n",
    "\n",
    "path = Path(positions, code)\n",
    "\n",
    "fig, ax = plt.subplots()\n",
    "patch = patches.PathPatch(path, facecolor='none', lw=2)\n",
    "ax.add_patch(patch)\n",
    "ax.set_xlim(-2000, 2000)\n",
    "ax.set_ylim(-2000, 2000)\n",
    "plt.show()\n",
    "\n"
   ]
  },
  {
   "cell_type": "code",
   "execution_count": 102,
   "metadata": {},
   "outputs": [
    {
     "data": {
      "text/plain": [
       "2.0"
      ]
     },
     "execution_count": 102,
     "metadata": {},
     "output_type": "execute_result"
    }
   ],
   "source": [
    "anglevec[0]**2 + anglevec[1]**2"
   ]
  },
  {
   "cell_type": "code",
   "execution_count": 4,
   "metadata": {},
   "outputs": [],
   "source": [
    "import matplotlib.pyplot as plt\n",
    "from matplotlib.path import Path\n",
    "import matplotlib.patches as patches\n",
    "import numpy as np"
   ]
  },
  {
   "cell_type": "code",
   "execution_count": 18,
   "metadata": {},
   "outputs": [
    {
     "data": {
      "image/png": "[encoded data removed]",
      "text/plain": [
       "<Figure size 432x288 with 1 Axes>"
      ]
     },
     "metadata": {
      "needs_background": "light"
     },
     "output_type": "display_data"
    }
   ],
   "source": [
    "\n",
    "import matplotlib.pyplot as plt\n",
    "from matplotlib.path import Path\n",
    "import matplotlib.patches as patches\n",
    "\n",
    "verts = [\n",
    "   (0., 0.),  # left, bottom\n",
    "   (0., 1.),  # left, top\n",
    "   (1., 1.),  # right, top\n",
    "   (1., 0.),  # right, bottom\n",
    "    (5.,1.)\n",
    "]\n",
    "\n",
    "codes = [\n",
    "    Path.MOVETO,\n",
    "    Path.LINETO,\n",
    "    Path.LINETO,\n",
    "    Path.MOVETO,\n",
    "    Path.LINETO\n",
    "]\n",
    "\n",
    "path = Path(verts, codes)\n",
    "\n",
    "fig, ax = plt.subplots()\n",
    "patch = patches.PathPatch(path, facecolor='none', lw=2)\n",
    "ax.add_patch(patch)\n",
    "ax.set_xlim(-2, 2)\n",
    "ax.set_ylim(-2, 2)\n",
    "plt.show()"
   ]
  },
  {
   "cell_type": "code",
   "execution_count": 12,
   "metadata": {},
   "outputs": [
    {
     "data": {
      "text/plain": [
       "1"
      ]
     },
     "execution_count": 12,
     "metadata": {},
     "output_type": "execute_result"
    }
   ],
   "source": []
  }
 ],
 "metadata": {
  "kernelspec": {
   "display_name": "Python 3",
   "language": "python",
   "name": "python3"
  },
  "language_info": {
   "codemirror_mode": {
    "name": "ipython",
    "version": 3
   },
   "file_extension": ".py",
   "mimetype": "text/x-python",
   "name": "python",
   "nbconvert_exporter": "python",
   "pygments_lexer": "ipython3",
   "version": "3.8.2"
  }
 },
 "nbformat": 4,
 "nbformat_minor": 4
}
